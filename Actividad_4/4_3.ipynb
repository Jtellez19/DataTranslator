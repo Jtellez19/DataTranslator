{
 "cells": [
  {
   "cell_type": "code",
   "execution_count": 9,
   "id": "2c8116b5",
   "metadata": {},
   "outputs": [],
   "source": [
    "import math as mt\n",
    "import numpy as np\n",
    "import pandas as pd\n",
    "import scipy as sp\n",
    "import scipy.stats as stats\n",
    "import matplotlib.pyplot as plt"
   ]
  },
  {
   "cell_type": "markdown",
   "id": "d5c0e7b4",
   "metadata": {},
   "source": [
    "# Ejercicio 1"
   ]
  },
  {
   "cell_type": "markdown",
   "id": "62f61235",
   "metadata": {},
   "source": [
    "### -Un inventor ha desarrollado un nuevo motor para podadoras de bajo consumo energético. Afirma que el motor funcionará continuamente durante más de 5 horas (300 minutos) con un solo galón de gasolina.\n",
    "\n",
    "### -El motor de podadoras de la marca líder funciona durante 300 minutos con un galón de gasolina. \n",
    "\n",
    "### -De su stock de motores, el inventor selecciona una muestra aleatoria de 50 motores para probarlos. Los motores seleccionados funcionan en promedio 305 minutos, con una desviación estándar de 30 minutos.\n",
    "\n",
    "### -Probar la hipótesis de que el tiempo medio de funcionamiento es superior a 300 minutos. Utilizar un nivel de significación de 0.05.\n"
   ]
  },
  {
   "cell_type": "code",
   "execution_count": 3,
   "id": "fc62b5c6",
   "metadata": {},
   "outputs": [
    {
     "data": {
      "text/plain": [
       "(1.1785113019775793, 1.6448536269514722, 0.11929641465821783)"
      ]
     },
     "execution_count": 3,
     "metadata": {},
     "output_type": "execute_result"
    }
   ],
   "source": [
    "sig = 0.05\n",
    "t = 300\n",
    "n = 50\n",
    "m = 305\n",
    "s = 30\n",
    "den = s /(n**0.5)\n",
    "z_score = (m-t) / den\n",
    "ppf = stats.norm(0,1).ppf(1-sig)\n",
    "p_value = 1-stats.norm(0,1).cdf(z_score)\n",
    "z_score,ppf,p_value"
   ]
  },
  {
   "cell_type": "markdown",
   "id": "448de329",
   "metadata": {},
   "source": [
    "### Ejercicio 2"
   ]
  },
  {
   "cell_type": "markdown",
   "id": "e039f331",
   "metadata": {},
   "source": [
    "### Un fabricante de aderezos para ensaladas utiliza una máquina para dispensar los ingredientes líquidos en botellas que se mueven a lo largo de una línea de llenado. La dispensadora funciona correctamente con una cantidad de 8 onzas.\n",
    "### Supongamos que la cantidad media dispensada en una muestra de 35 botellas es de 7.91 onzas con una varianza de 0.03 onzas al cuadrado. \n",
    "### Determinar si la máquina debe detenerse y la producción debe esperar hasta que se repare la máquina\n",
    "### La pérdida de producción derivada de una parada es tan grande que la dirección cree que el nivel de significación en el análisis debe ser del 99%.\n"
   ]
  },
  {
   "cell_type": "code",
   "execution_count": 12,
   "id": "f7bc58fa",
   "metadata": {},
   "outputs": [
    {
     "data": {
      "text/plain": [
       "(-17.74823934929882, -1.6448536269514729, 8.892133025881668e-71)"
      ]
     },
     "execution_count": 12,
     "metadata": {},
     "output_type": "execute_result"
    }
   ],
   "source": [
    "sig = 0.05 #sigma\n",
    "t = 8 #h0\n",
    "n = 35 #n muestas\n",
    "m = 7.91#media de las muestras\n",
    "s = mt.sqrt(pow(0.03,2))##es lo mismo que la varianza pero igual se calcula para no dejarlo pasar\n",
    "den = s /(n**0.5) #Denominador de la formula para calcular z\n",
    "z_score = (m-t) / den\n",
    "ppf = stats.norm(0,1).ppf(1-sig)\n",
    "p_value = 1-stats.norm(0,1).cdf(z_score)\n",
    "z_score,ppf,p_value"
   ]
  },
  {
   "cell_type": "markdown",
   "id": "9a0ef7d1",
   "metadata": {},
   "source": [
    "# Ejercicio 3"
   ]
  },
  {
   "cell_type": "markdown",
   "id": "e19a72f3",
   "metadata": {},
   "source": [
    "### Una empresa de bebidas afirma que sus botellas de agua tienen exactamente 16 onzas. Las muestras se encuentran en el documento “wáter.csv”\n",
    "### Elaborar una prueba de hipótesis con alfa = 1%.\n",
    "### Calcular manualmente y con API para comparar ambos resultados\n"
   ]
  },
  {
   "cell_type": "markdown",
   "id": "82a04533",
   "metadata": {},
   "source": [
    "# Ejercicio 4\n",
    "### La escala Brinell es una medida de la dureza de un material. Un ingeniero supone que la puntuación Brinell media de todas las piezas de cierto tipo de material (hierro dúctil recocido subcríticamente) no es igual a 170. \n",
    "### El ingeniero mide 25 piezas de este tipo de material y calcula que la media de la muestra es de 174.52 y la desviación estándar de la muestra es de 10.31. \n",
    "### Elaborar una prueba de hipótesis de que la verdadera puntuación Brinell media no es igual a 170, así como el correspondiente intervalo de confianza con alfa = 0.01.\n"
   ]
  },
  {
   "cell_type": "code",
   "execution_count": 14,
   "id": "6c500f83",
   "metadata": {},
   "outputs": [
    {
     "data": {
      "text/plain": [
       "(2.1920465567410328, 2.3263478740408408, 0.014188072549385256)"
      ]
     },
     "execution_count": 14,
     "metadata": {},
     "output_type": "execute_result"
    }
   ],
   "source": [
    "sig = 0.01 #sigma\n",
    "t = 170 #h0\n",
    "n = 25 #n muestas\n",
    "m = 174.52#media de las muestras\n",
    "s = 10.31##es lo mismo que la varianza pero igual se calcula para no dejarlo pasar\n",
    "den = s /(n**0.5) #Denominador de la formula para calcular z\n",
    "z_score = (m-t) / den\n",
    "ppf = stats.norm(0,1).ppf(1-sig)\n",
    "p_value = 1-stats.norm(0,1).cdf(z_score)\n",
    "z_score,ppf,p_value"
   ]
  },
  {
   "cell_type": "markdown",
   "id": "4ea55116",
   "metadata": {},
   "source": [
    "# Ejercicio 5"
   ]
  },
  {
   "cell_type": "markdown",
   "id": "e2c8dcd4",
   "metadata": {},
   "source": [
    "### Matías tiene ocho años, y estableció un tiempo medio de 16.43 segundos para nadar 22 metros de estilo libre. Su padre, Paco, pensaba que Jeffrey podría disminuir este tiempo usando goggles. Paco le compró a Jeffrey un nuevo par de goggles y cronometró a Matías durante 15 pruebas de 22 metros estilo libre.\n",
    "### En las 15 pruebas, el tiempo medio de Matías fue de 16 segundos, con una desviación estándar de 0.8 segundos. \n",
    "### Paco pensó que las gafas ayudaban a Matías a nadar más rápido que antes. \n",
    "### Elaborar una prueba de hipótesis utilizando un alfa= 0.05.\n"
   ]
  },
  {
   "cell_type": "code",
   "execution_count": 15,
   "id": "17072b2c",
   "metadata": {},
   "outputs": [
    {
     "data": {
      "text/plain": [
       "(-2.081728548586485, 1.6448536269514722, 0.981316364286394)"
      ]
     },
     "execution_count": 15,
     "metadata": {},
     "output_type": "execute_result"
    }
   ],
   "source": [
    "sig = 0.05 #sigma\n",
    "t = 16.43 #h0\n",
    "n = 15 #n muestas\n",
    "m = 16#media de las muestras\n",
    "s = 0.8##es lo mismo que la varianza pero igual se calcula para no dejarlo pasar\n",
    "den = s /(n**0.5) #Denominador de la formula para calcular z\n",
    "z_score = (m-t) / den\n",
    "ppf = stats.norm(0,1).ppf(1-sig)\n",
    "p_value = 1-stats.norm(0,1).cdf(z_score)\n",
    "z_score,ppf,p_value"
   ]
  },
  {
   "cell_type": "code",
   "execution_count": null,
   "id": "5c09e749",
   "metadata": {},
   "outputs": [],
   "source": [
    "sig = 0.05 #sigma\n",
    "t = 16.43 #h0\n",
    "n = 15 #n muestas\n",
    "m = 16#media de las muestras\n",
    "s = 0.8##es lo mismo que la varianza pero igual se calcula para no dejarlo pasar\n",
    "den = s /(n**0.5) #Denominador de la formula para calcular z\n",
    "z_score = (m-t) / den\n",
    "ppf = stats.norm(0,1).ppf(1-sig)\n",
    "p_value = 1-stats.norm(0,1).cdf(z_score)\n",
    "z_score,ppf,p_value"
   ]
  }
 ],
 "metadata": {
  "kernelspec": {
   "display_name": "Python 3",
   "language": "python",
   "name": "python3"
  },
  "language_info": {
   "codemirror_mode": {
    "name": "ipython",
    "version": 3
   },
   "file_extension": ".py",
   "mimetype": "text/x-python",
   "name": "python",
   "nbconvert_exporter": "python",
   "pygments_lexer": "ipython3",
   "version": "3.6.13"
  }
 },
 "nbformat": 4,
 "nbformat_minor": 5
}

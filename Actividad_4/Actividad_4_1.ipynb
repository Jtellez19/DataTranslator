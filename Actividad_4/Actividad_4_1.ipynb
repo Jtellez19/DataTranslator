{
 "cells": [
  {
   "cell_type": "code",
   "execution_count": 1,
   "id": "7f4b5951",
   "metadata": {
    "scrolled": true
   },
   "outputs": [],
   "source": [
    "import numpy as np\n",
    "import pandas as pd\n",
    "import scipy as sp\n",
    "import scipy.stats as stats\n",
    "import matplotlib.pyplot as plt"
   ]
  },
  {
   "cell_type": "markdown",
   "id": "55d69070",
   "metadata": {},
   "source": [
    "# Tips\n",
    "\n",
    "### CDF\n",
    " - Menor o igual / Mayor que (Con consideración especial)\n",
    "### PMF\n",
    " - Igual"
   ]
  },
  {
   "cell_type": "markdown",
   "id": "65c11d1b",
   "metadata": {},
   "source": [
    "# Parte 1"
   ]
  },
  {
   "cell_type": "markdown",
   "id": "a7107877",
   "metadata": {},
   "source": [
    "## Dado de 20 caras"
   ]
  },
  {
   "cell_type": "code",
   "execution_count": 2,
   "id": "4a8df94c",
   "metadata": {},
   "outputs": [],
   "source": [
    "dado= stats.randint(low=1, high=21)"
   ]
  },
  {
   "cell_type": "markdown",
   "id": "39368f09",
   "metadata": {},
   "source": [
    "### Obtener valor entre 6 y 9"
   ]
  },
  {
   "cell_type": "code",
   "execution_count": 3,
   "id": "75585c64",
   "metadata": {},
   "outputs": [],
   "source": [
    "P6=dado.pmf(6)\n",
    "P7=dado.pmf(7)\n",
    "P8=dado.pmf(8)\n",
    "P9=dado.pmf(9)"
   ]
  },
  {
   "cell_type": "code",
   "execution_count": 4,
   "id": "0ac40a60",
   "metadata": {},
   "outputs": [],
   "source": [
    "def sumatoria(*args):\n",
    "    return sum(args)"
   ]
  },
  {
   "cell_type": "code",
   "execution_count": 5,
   "id": "f5a0f2d1",
   "metadata": {},
   "outputs": [
    {
     "data": {
      "text/plain": [
       "0.2"
      ]
     },
     "execution_count": 5,
     "metadata": {},
     "output_type": "execute_result"
    }
   ],
   "source": [
    "sumatoria(P6,P7,P8,P9)"
   ]
  },
  {
   "cell_type": "code",
   "execution_count": 6,
   "id": "c4ca00e9",
   "metadata": {},
   "outputs": [
    {
     "data": {
      "text/plain": [
       "0.2"
      ]
     },
     "execution_count": 6,
     "metadata": {},
     "output_type": "execute_result"
    }
   ],
   "source": [
    "dado.pmf([6,7,8,9]).sum()"
   ]
  },
  {
   "cell_type": "markdown",
   "id": "1e7d9609",
   "metadata": {},
   "source": [
    "### Ejemplo de n lanzamientos"
   ]
  },
  {
   "cell_type": "code",
   "execution_count": 7,
   "id": "f74844f8",
   "metadata": {},
   "outputs": [
    {
     "name": "stdout",
     "output_type": "stream",
     "text": [
      "Lanzamiento # 0 : 17\n",
      "Lanzamiento # 1 : 9\n",
      "Lanzamiento # 2 : 17\n",
      "Lanzamiento # 3 : 5\n",
      "Lanzamiento # 4 : 6\n",
      "Lanzamiento # 5 : 2\n",
      "Lanzamiento # 6 : 17\n",
      "Lanzamiento # 7 : 13\n",
      "Lanzamiento # 8 : 2\n",
      "Lanzamiento # 9 : 6\n",
      "Lanzamiento # 10 : 11\n",
      "Lanzamiento # 11 : 1\n"
     ]
    }
   ],
   "source": [
    "for i in range(12):\n",
    "    print(\"Lanzamiento #\",i,\":\",dado.rvs())"
   ]
  },
  {
   "cell_type": "markdown",
   "id": "c9d14719",
   "metadata": {},
   "source": [
    "### Obtener al menos 12"
   ]
  },
  {
   "cell_type": "code",
   "execution_count": 16,
   "id": "f6b22631",
   "metadata": {},
   "outputs": [
    {
     "data": {
      "text/plain": [
       "0.6"
      ]
     },
     "execution_count": 16,
     "metadata": {},
     "output_type": "execute_result"
    }
   ],
   "source": [
    "dado.cdf(12) #Obtener 12 o menos"
   ]
  },
  {
   "cell_type": "code",
   "execution_count": 17,
   "id": "249935a1",
   "metadata": {},
   "outputs": [
    {
     "data": {
      "text/plain": [
       "0.4"
      ]
     },
     "execution_count": 17,
     "metadata": {},
     "output_type": "execute_result"
    }
   ],
   "source": [
    "1-dado.cdf(12) #Obtener más de 12 (13,14,...,20)"
   ]
  },
  {
   "cell_type": "code",
   "execution_count": 18,
   "id": "46c8c510",
   "metadata": {},
   "outputs": [
    {
     "data": {
      "text/plain": [
       "0.44999999999999996"
      ]
     },
     "execution_count": 18,
     "metadata": {},
     "output_type": "execute_result"
    }
   ],
   "source": [
    "1-dado.cdf(11) #Obtener más de 11 (12,...,20) --> Al menos 12"
   ]
  },
  {
   "cell_type": "markdown",
   "id": "28185246",
   "metadata": {},
   "source": [
    "### Obtener 3 o menos"
   ]
  },
  {
   "cell_type": "code",
   "execution_count": 20,
   "id": "3860e03e",
   "metadata": {},
   "outputs": [
    {
     "data": {
      "text/plain": [
       "0.15"
      ]
     },
     "execution_count": 20,
     "metadata": {},
     "output_type": "execute_result"
    }
   ],
   "source": [
    "dado.cdf(3)"
   ]
  },
  {
   "cell_type": "markdown",
   "id": "bbc091d9",
   "metadata": {},
   "source": [
    "### Gráfico de la pmf"
   ]
  },
  {
   "cell_type": "code",
   "execution_count": 8,
   "id": "4a6d5437",
   "metadata": {},
   "outputs": [
    {
     "data": {
      "text/plain": [
       "(0.0, 1.0)"
      ]
     },
     "execution_count": 8,
     "metadata": {},
     "output_type": "execute_result"
    },
    {
     "data": {
      "image/png": "[encoded data removed]",
      "text/plain": [
       "<Figure size 432x288 with 1 Axes>"
      ]
     },
     "metadata": {
      "needs_background": "light"
     },
     "output_type": "display_data"
    }
   ],
   "source": [
    "plt.bar(range(1,21),dado.pmf(range(1,21)))\n",
    "plt.ylim([0,1])"
   ]
  },
  {
   "cell_type": "markdown",
   "id": "8c32530a",
   "metadata": {},
   "source": [
    "# Parte 2"
   ]
  },
  {
   "cell_type": "markdown",
   "id": "ea12c0bc",
   "metadata": {},
   "source": [
    "## Apagador"
   ]
  },
  {
   "cell_type": "code",
   "execution_count": 28,
   "id": "12b0b67f",
   "metadata": {},
   "outputs": [],
   "source": [
    "# Tip: El apagador posee dos estados, encendido(0) y apagado(1).\n",
    "# Que distribución funciona con dos estados? R= Binomial \n",
    "# Verdadero y Falso ó 0 y 1\n",
    "\n",
    "# EL apagador funciona 1 de 5 veces --> Probabilidad de que funcione\n",
    "\n",
    "# Para la distribución necesitaremos el número de veces que se acciona\n",
    "# y la probabilidad de que funcione"
   ]
  },
  {
   "cell_type": "code",
   "execution_count": 14,
   "id": "78195896",
   "metadata": {},
   "outputs": [
    {
     "data": {
      "text/plain": [
       "<scipy.stats._distn_infrastructure.rv_frozen at 0x21b00e33940>"
      ]
     },
     "execution_count": 14,
     "metadata": {},
     "output_type": "execute_result"
    }
   ],
   "source": [
    "prob = 1/5\n",
    "veces = 15\n",
    "apagador = stats.binom(veces,prob)\n",
    "apagador"
   ]
  },
  {
   "cell_type": "code",
   "execution_count": 29,
   "id": "591c64cd",
   "metadata": {},
   "outputs": [],
   "source": [
    "# Al accionarlo 15 veces calcular las probabilidades de que:"
   ]
  },
  {
   "cell_type": "code",
   "execution_count": 30,
   "id": "26bf6831",
   "metadata": {},
   "outputs": [],
   "source": [
    "# Funcione 9 veces"
   ]
  },
  {
   "cell_type": "code",
   "execution_count": 15,
   "id": "1fbefa75",
   "metadata": {},
   "outputs": [
    {
     "data": {
      "text/plain": [
       "0.000671759728640003"
      ]
     },
     "execution_count": 15,
     "metadata": {},
     "output_type": "execute_result"
    }
   ],
   "source": [
    "apagador.pmf(9)"
   ]
  },
  {
   "cell_type": "code",
   "execution_count": 31,
   "id": "df6822fd",
   "metadata": {},
   "outputs": [],
   "source": [
    "# Funcione menos de 4 veces"
   ]
  },
  {
   "cell_type": "code",
   "execution_count": 16,
   "id": "a999cb05",
   "metadata": {},
   "outputs": [
    {
     "data": {
      "text/plain": [
       "0.648162104573952"
      ]
     },
     "execution_count": 16,
     "metadata": {},
     "output_type": "execute_result"
    }
   ],
   "source": [
    "apagador.cdf(3)"
   ]
  },
  {
   "cell_type": "code",
   "execution_count": 32,
   "id": "3a887bf5",
   "metadata": {},
   "outputs": [],
   "source": [
    "# Funcione 3 o más veces"
   ]
  },
  {
   "cell_type": "code",
   "execution_count": 18,
   "id": "aa34bb8e",
   "metadata": {},
   "outputs": [
    {
     "data": {
      "text/plain": [
       "0.16423372393676794"
      ]
     },
     "execution_count": 18,
     "metadata": {},
     "output_type": "execute_result"
    }
   ],
   "source": [
    "1-apagador.cdf(4)"
   ]
  },
  {
   "cell_type": "code",
   "execution_count": null,
   "id": "b3e2d565",
   "metadata": {},
   "outputs": [],
   "source": [
    "# Graficar la pmf"
   ]
  },
  {
   "cell_type": "code",
   "execution_count": 19,
   "id": "85b301e9",
   "metadata": {},
   "outputs": [
    {
     "data": {
      "text/plain": [
       "<BarContainer object of 15 artists>"
      ]
     },
     "execution_count": 19,
     "metadata": {},
     "output_type": "execute_result"
    },
    {
     "data": {
      "image/png": "[encoded data removed]",
      "text/plain": [
       "<Figure size 432x288 with 1 Axes>"
      ]
     },
     "metadata": {
      "needs_background": "light"
     },
     "output_type": "display_data"
    }
   ],
   "source": [
    "plt.bar(range(0,15),apagador.pmf(range(0,15)))"
   ]
  },
  {
   "cell_type": "markdown",
   "id": "7d4f041d",
   "metadata": {},
   "source": [
    "# Parte 3\n"
   ]
  },
  {
   "cell_type": "markdown",
   "id": "c2e8fabd",
   "metadata": {},
   "source": [
    "# En una línea de producción se estrellan 3 vitrales por hora, calcular las probabilidades de:\n",
    "\n",
    "\n"
   ]
  },
  {
   "cell_type": "markdown",
   "id": "23c6c71d",
   "metadata": {},
   "source": [
    "# P(Estrellar un vitral por hora)\n"
   ]
  },
  {
   "cell_type": "code",
   "execution_count": 24,
   "id": "432d128f",
   "metadata": {},
   "outputs": [
    {
     "data": {
      "text/plain": [
       "0.14936120510359185"
      ]
     },
     "execution_count": 24,
     "metadata": {},
     "output_type": "execute_result"
    }
   ],
   "source": [
    "eventos = stats.poisson(mu=3)\n",
    "eventos.pmf(1)"
   ]
  },
  {
   "cell_type": "markdown",
   "id": "57c8a593",
   "metadata": {},
   "source": [
    " ### P(Estrellar entre 4 y 7 por hora)"
   ]
  },
  {
   "cell_type": "code",
   "execution_count": 25,
   "id": "7ace8c21",
   "metadata": {},
   "outputs": [
    {
     "data": {
      "text/plain": [
       "0.34086360736141147"
      ]
     },
     "execution_count": 25,
     "metadata": {},
     "output_type": "execute_result"
    }
   ],
   "source": [
    "eventos.pmf([4,5,6,7]).sum()"
   ]
  },
  {
   "cell_type": "markdown",
   "id": "cd79cb6c",
   "metadata": {},
   "source": [
    "### P(Estrellar menos de 6 por hora)"
   ]
  },
  {
   "cell_type": "code",
   "execution_count": 26,
   "id": "408b9626",
   "metadata": {},
   "outputs": [
    {
     "data": {
      "text/plain": [
       "0.9160820579686966"
      ]
     },
     "execution_count": 26,
     "metadata": {},
     "output_type": "execute_result"
    }
   ],
   "source": [
    "eventos.cdf(5)"
   ]
  },
  {
   "cell_type": "code",
   "execution_count": 27,
   "id": "2e744729",
   "metadata": {},
   "outputs": [
    {
     "data": {
      "text/plain": [
       "<BarContainer object of 24 artists>"
      ]
     },
     "execution_count": 27,
     "metadata": {},
     "output_type": "execute_result"
    },
    {
     "data": {
      "image/png": "[encoded data removed]",
      "text/plain": [
       "<Figure size 432x288 with 1 Axes>"
      ]
     },
     "metadata": {
      "needs_background": "light"
     },
     "output_type": "display_data"
    }
   ],
   "source": [
    "plt.bar(range(0,24),eventos.pmf(range(0,24)))"
   ]
  },
  {
   "cell_type": "markdown",
   "id": "a65b2e05",
   "metadata": {},
   "source": [
    "# Parte 4\n",
    "# El documento sqft.csv, contiene el área en pies cuadrados (sqft) de un conjunto de hogares, con esta información calcular:"
   ]
  },
  {
   "cell_type": "code",
   "execution_count": 28,
   "id": "16072f5e",
   "metadata": {},
   "outputs": [],
   "source": [
    "df = pd.read_csv(\"sqft.csv\")"
   ]
  },
  {
   "cell_type": "code",
   "execution_count": 29,
   "id": "9079817e",
   "metadata": {},
   "outputs": [
    {
     "data": {
      "text/html": [
       "<div>\n",
       "<style scoped>\n",
       "    .dataframe tbody tr th:only-of-type {\n",
       "        vertical-align: middle;\n",
       "    }\n",
       "\n",
       "    .dataframe tbody tr th {\n",
       "        vertical-align: top;\n",
       "    }\n",
       "\n",
       "    .dataframe thead th {\n",
       "        text-align: right;\n",
       "    }\n",
       "</style>\n",
       "<table border=\"1\" class=\"dataframe\">\n",
       "  <thead>\n",
       "    <tr style=\"text-align: right;\">\n",
       "      <th></th>\n",
       "      <th>sqft</th>\n",
       "    </tr>\n",
       "  </thead>\n",
       "  <tbody>\n",
       "    <tr>\n",
       "      <th>0</th>\n",
       "      <td>1788.733268</td>\n",
       "    </tr>\n",
       "    <tr>\n",
       "      <th>1</th>\n",
       "      <td>1763.827324</td>\n",
       "    </tr>\n",
       "    <tr>\n",
       "      <th>2</th>\n",
       "      <td>1651.993341</td>\n",
       "    </tr>\n",
       "    <tr>\n",
       "      <th>3</th>\n",
       "      <td>1603.205624</td>\n",
       "    </tr>\n",
       "    <tr>\n",
       "      <th>4</th>\n",
       "      <td>1472.958266</td>\n",
       "    </tr>\n",
       "  </tbody>\n",
       "</table>\n",
       "</div>"
      ],
      "text/plain": [
       "          sqft\n",
       "0  1788.733268\n",
       "1  1763.827324\n",
       "2  1651.993341\n",
       "3  1603.205624\n",
       "4  1472.958266"
      ]
     },
     "execution_count": 29,
     "metadata": {},
     "output_type": "execute_result"
    }
   ],
   "source": [
    "df.head(5)"
   ]
  },
  {
   "cell_type": "code",
   "execution_count": 30,
   "id": "087e5433",
   "metadata": {},
   "outputs": [
    {
     "data": {
      "text/plain": [
       "array([[<AxesSubplot:title={'center':'sqft'}>]], dtype=object)"
      ]
     },
     "execution_count": 30,
     "metadata": {},
     "output_type": "execute_result"
    },
    {
     "data": {
      "image/png": "[encoded data removed]",
      "text/plain": [
       "<Figure size 432x288 with 1 Axes>"
      ]
     },
     "metadata": {
      "needs_background": "light"
     },
     "output_type": "display_data"
    }
   ],
   "source": [
    "df.hist()"
   ]
  },
  {
   "cell_type": "markdown",
   "id": "ec3ef0de",
   "metadata": {},
   "source": [
    "### P(Una casa posea 830 +/- 25 sqft)"
   ]
  },
  {
   "cell_type": "code",
   "execution_count": 40,
   "id": "0ab09acd",
   "metadata": {},
   "outputs": [],
   "source": [
    "mean = df.mean()\n",
    "std = df.std()\n",
    "v_805 =  stats.norm.cdf(805,loc = mean, scale = std )\n",
    "v_855 =  stats.norm.cdf(855,loc = mean, scale = std )"
   ]
  },
  {
   "cell_type": "code",
   "execution_count": 42,
   "id": "51ee1524",
   "metadata": {},
   "outputs": [
    {
     "name": "stdout",
     "output_type": "stream",
     "text": [
      "[0.00372463]\n"
     ]
    }
   ],
   "source": [
    "print(v_855-v_805)"
   ]
  },
  {
   "cell_type": "markdown",
   "id": "72febf57",
   "metadata": {},
   "source": [
    "### P(Una casa posea más de 3000 sqft)"
   ]
  },
  {
   "cell_type": "code",
   "execution_count": 47,
   "id": "c5a46d6a",
   "metadata": {},
   "outputs": [
    {
     "name": "stdout",
     "output_type": "stream",
     "text": [
      "[6.42448684e-07]\n"
     ]
    }
   ],
   "source": [
    "v_3000 = stats.norm.cdf(3000,loc = mean, scale = std )\n",
    "print(1-v_3000)"
   ]
  },
  {
   "cell_type": "markdown",
   "id": "b30a9889",
   "metadata": {},
   "source": [
    "### P(Una casa posea menos de 275 sqft)"
   ]
  },
  {
   "cell_type": "code",
   "execution_count": 48,
   "id": "d5a9454d",
   "metadata": {},
   "outputs": [
    {
     "name": "stdout",
     "output_type": "stream",
     "text": [
      "[1.03531638e-05]\n"
     ]
    }
   ],
   "source": [
    "v_275 = stats.norm.cdf(275,loc = mean, scale = std )\n",
    "print(v_275)"
   ]
  },
  {
   "cell_type": "markdown",
   "id": "6a582e6f",
   "metadata": {},
   "source": [
    "# Parte 5"
   ]
  },
  {
   "cell_type": "markdown",
   "id": "f81f2ea5",
   "metadata": {},
   "source": [
    "### Un mecanógrafo comete una media de 2 errores por página ¿Cuál es la probabilidad de que una página concreta no tenga errores?"
   ]
  },
  {
   "cell_type": "code",
   "execution_count": 51,
   "id": "eb32e7d3",
   "metadata": {},
   "outputs": [
    {
     "data": {
      "text/plain": [
       "0.1353352832366127"
      ]
     },
     "execution_count": 51,
     "metadata": {},
     "output_type": "execute_result"
    }
   ],
   "source": [
    "eventos = stats.poisson(mu=2)\n",
    "eventos.pmf(0)\n",
    "##plt.bar(range(0,24),eventos.pmf(range(0,24)))"
   ]
  },
  {
   "cell_type": "markdown",
   "id": "3077e546",
   "metadata": {},
   "source": [
    "### Los componentes se embalan en cajas de 20. La probabilidad de que un componente individual sea defectuoso es del 10%. Calcula las siguientes probabilidades:"
   ]
  },
  {
   "cell_type": "code",
   "execution_count": 52,
   "id": "e485e1fc",
   "metadata": {},
   "outputs": [],
   "source": [
    "prob = stats.binom(20,0.1)"
   ]
  },
  {
   "cell_type": "markdown",
   "id": "51c05e98",
   "metadata": {},
   "source": [
    "### Que una caja contenga exactamente 2 componentes defectuosos"
   ]
  },
  {
   "cell_type": "code",
   "execution_count": 53,
   "id": "eac21e66",
   "metadata": {},
   "outputs": [
    {
     "data": {
      "text/plain": [
       "0.28517980706429813"
      ]
     },
     "execution_count": 53,
     "metadata": {},
     "output_type": "execute_result"
    }
   ],
   "source": [
    "prob.pmf(2)"
   ]
  },
  {
   "cell_type": "markdown",
   "id": "a8d81086",
   "metadata": {},
   "source": [
    "### Qué una caja contenga máximo 2 componentes defectuosos"
   ]
  },
  {
   "cell_type": "code",
   "execution_count": 55,
   "id": "661dd696",
   "metadata": {},
   "outputs": [
    {
     "data": {
      "text/plain": [
       "0.3917469981251682"
      ]
     },
     "execution_count": 55,
     "metadata": {},
     "output_type": "execute_result"
    }
   ],
   "source": [
    "prob.cdf(1)"
   ]
  },
  {
   "cell_type": "markdown",
   "id": "d71cec38",
   "metadata": {},
   "source": [
    "### Los clientes llegan a un bar local a un ritmo de 30 por hora. ¿Cuál es la probabilidad de que el portero pueda tomarse un descanso de tres minutos para ir al baño sin perder al siguiente cliente?\n"
   ]
  },
  {
   "cell_type": "code",
   "execution_count": 57,
   "id": "58bf5415",
   "metadata": {},
   "outputs": [
    {
     "data": {
      "text/plain": [
       "0.9179150013761012"
      ]
     },
     "execution_count": 57,
     "metadata": {},
     "output_type": "execute_result"
    }
   ],
   "source": [
    "prob = stats.expon.cdf(3,0.5)\n",
    "prob"
   ]
  },
  {
   "cell_type": "markdown",
   "id": "3ebf4c1a",
   "metadata": {},
   "source": [
    "# Parte 6"
   ]
  },
  {
   "cell_type": "markdown",
   "id": "07531dad",
   "metadata": {},
   "source": [
    "### Tienes que encontrar a una persona alta, de al menos 1,80 metros, para que te ayude a alcanzar un tarro de galletas. El 8% de la población mide 1,80 m o más, y la gente pasa de media dos veces por minuto. Si esperas en la acera, ¿cuál es la probabilidad de que tengas que esperar más de diez minutos para conseguir unas galletas?"
   ]
  },
  {
   "cell_type": "code",
   "execution_count": 59,
   "id": "18a0753c",
   "metadata": {},
   "outputs": [
    {
     "data": {
      "text/plain": [
       "<scipy.stats._distn_infrastructure.rv_frozen at 0x21b0125b128>"
      ]
     },
     "execution_count": 59,
     "metadata": {},
     "output_type": "execute_result"
    }
   ],
   "source": [
    "prob = stats.expon(0,2)\n",
    "prob"
   ]
  },
  {
   "cell_type": "code",
   "execution_count": 62,
   "id": "57b61667",
   "metadata": {},
   "outputs": [
    {
     "data": {
      "text/plain": [
       "0.000539035759926838"
      ]
     },
     "execution_count": 62,
     "metadata": {},
     "output_type": "execute_result"
    }
   ],
   "source": [
    "(1-prob.cdf(10))*0.08"
   ]
  },
  {
   "cell_type": "markdown",
   "id": "72bf667b",
   "metadata": {},
   "source": [
    "### Un pasajero apresurado llegará varios minutos tarde a un vuelo programado para las 10 de la mañana a Nueva York. Sin embargo, es posible que llegue al vuelo, ya que el embarque siempre se permite hasta las 10:10 A.M., y a veces se permite el embarque hasta las 10:30 AM. Suponiendo que la hora de finalización del intervalo de embarque se distribuye uniformemente sobre los límites anteriores, encuentre la probabilidad de que el pasajero llegue a su vuelo, suponiendo que llega a la puerta de embarque a las 10:25."
   ]
  },
  {
   "cell_type": "code",
   "execution_count": 63,
   "id": "ab3dd3b7",
   "metadata": {},
   "outputs": [
    {
     "data": {
      "text/plain": [
       "0.05"
      ]
     },
     "execution_count": 63,
     "metadata": {},
     "output_type": "execute_result"
    }
   ],
   "source": [
    "prob = stats.randint(low=10, high=30)\n",
    "prob.pmf(25)"
   ]
  },
  {
   "cell_type": "code",
   "execution_count": 64,
   "id": "2baf9575",
   "metadata": {},
   "outputs": [
    {
     "data": {
      "text/plain": [
       "<BarContainer object of 30 artists>"
      ]
     },
     "execution_count": 64,
     "metadata": {},
     "output_type": "execute_result"
    },
    {
     "data": {
      "image/png": "[encoded data removed]",
      "text/plain": [
       "<Figure size 432x288 with 1 Axes>"
      ]
     },
     "metadata": {
      "needs_background": "light"
     },
     "output_type": "display_data"
    }
   ],
   "source": [
    "plt.bar(range(0,30),prob.pmf(range(0,30)))"
   ]
  },
  {
   "cell_type": "markdown",
   "id": "114a4b65",
   "metadata": {},
   "source": [
    "# Parte 7\n"
   ]
  },
  {
   "cell_type": "markdown",
   "id": "d95a21b3",
   "metadata": {},
   "source": [
    "### Tu gato empieza a pedir la cena a las 3:30 todos los días, y sospechas que maúlla a un ritmo fijo. Has observado que aproximadamente una quinta parte de las veces tu gato no maúlla hasta las 3:40, lo que te da 10 minutos inesperados de tranquilidad. ¿Cuál es la probabilidad de que tu gato te deje tranquilo durante 30 minutos?"
   ]
  },
  {
   "cell_type": "code",
   "execution_count": 66,
   "id": "99c20033",
   "metadata": {},
   "outputs": [
    {
     "data": {
      "text/plain": [
       "0.0010916410041039767"
      ]
     },
     "execution_count": 66,
     "metadata": {},
     "output_type": "execute_result"
    }
   ],
   "source": [
    "prob = stats.poisson(mu=1/5)\n",
    "prob.pmf(3)"
   ]
  },
  {
   "cell_type": "markdown",
   "id": "f32880b6",
   "metadata": {},
   "source": [
    "### De alguna manera, has acabado con dos tipos de tenedores. Están los tenedores buenos, que son grandes y sirven para un bocado sano, pero también están estos pequeños y finos que no entiendes muy bien para qué sirven, probablemente deberías deshacerte de ellos. Necesitas dos tenedores para ti y tu pareja, y coge un puñado de 5. Si hay 14 tenedores en el cajón, de los cuales la mitad son del tipo bueno, ¿cuál es la probabilidad de que tengas al menos los dos tenedores buenos que necesitas?"
   ]
  },
  {
   "cell_type": "code",
   "execution_count": 74,
   "id": "8c303f5a",
   "metadata": {},
   "outputs": [
    {
     "ename": "AttributeError",
     "evalue": "module 'scipy.stats' has no attribute 'nhypergeom'",
     "output_type": "error",
     "traceback": [
      "\u001b[1;31m---------------------------------------------------------------------------\u001b[0m",
      "\u001b[1;31mAttributeError\u001b[0m                            Traceback (most recent call last)",
      "\u001b[1;32m<ipython-input-74-28a68a0c395d>\u001b[0m in \u001b[0;36m<module>\u001b[1;34m\u001b[0m\n\u001b[1;32m----> 1\u001b[1;33m \u001b[0mprob\u001b[0m \u001b[1;33m=\u001b[0m \u001b[0mstats\u001b[0m\u001b[1;33m.\u001b[0m\u001b[0mnhypergeom\u001b[0m\u001b[1;33m(\u001b[0m\u001b[0mM\u001b[0m\u001b[1;33m=\u001b[0m\u001b[1;36m14\u001b[0m\u001b[1;33m,\u001b[0m \u001b[0mn\u001b[0m\u001b[1;33m=\u001b[0m\u001b[1;36m7\u001b[0m\u001b[1;33m,\u001b[0m \u001b[0mr\u001b[0m\u001b[1;33m=\u001b[0m\u001b[1;36m5\u001b[0m\u001b[1;33m)\u001b[0m\u001b[1;33m\u001b[0m\u001b[1;33m\u001b[0m\u001b[0m\n\u001b[0m\u001b[0;32m      2\u001b[0m \u001b[0mprob\u001b[0m\u001b[1;33m\u001b[0m\u001b[1;33m\u001b[0m\u001b[0m\n",
      "\u001b[1;31mAttributeError\u001b[0m: module 'scipy.stats' has no attribute 'nhypergeom'"
     ]
    }
   ],
   "source": [
    "prob = stats.nhypergeom(M=14, n=7, r=5)\n",
    "prob"
   ]
  },
  {
   "cell_type": "code",
   "execution_count": 68,
   "id": "4d16635b",
   "metadata": {},
   "outputs": [
    {
     "data": {
      "text/plain": [
       "0.36713286713286725"
      ]
     },
     "execution_count": 68,
     "metadata": {},
     "output_type": "execute_result"
    }
   ],
   "source": [
    "prob.pmf(2)"
   ]
  },
  {
   "cell_type": "markdown",
   "id": "adc4038f",
   "metadata": {},
   "source": [
    "# Parte 8"
   ]
  },
  {
   "cell_type": "markdown",
   "id": "728eebfa",
   "metadata": {},
   "source": [
    "### De los alumnos de una clase, el 60% son genios, el 70% aman el chocolate y el 40% entran en ambas categorías. Determina la probabilidad de que un alumno seleccionado al azar no sea ni un genio ni un amante del chocolate."
   ]
  },
  {
   "cell_type": "code",
   "execution_count": null,
   "id": "27eadd26",
   "metadata": {},
   "outputs": [],
   "source": []
  }
 ],
 "metadata": {
  "kernelspec": {
   "display_name": "Python 3",
   "language": "python",
   "name": "python3"
  },
  "language_info": {
   "codemirror_mode": {
    "name": "ipython",
    "version": 3
   },
   "file_extension": ".py",
   "mimetype": "text/x-python",
   "name": "python",
   "nbconvert_exporter": "python",
   "pygments_lexer": "ipython3",
   "version": "3.6.13"
  }
 },
 "nbformat": 4,
 "nbformat_minor": 5
}

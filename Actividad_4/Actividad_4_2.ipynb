{
 "cells": [
  {
   "cell_type": "markdown",
   "id": "cff3e32d",
   "metadata": {},
   "source": [
    "### Crear las siguientes distribuciones\n",
    "# Binomial (n=25, p=.70)\n",
    "# Uniforme para un dado de 6 caras\n",
    "# Exponencial(Teta=10)\n"
   ]
  },
  {
   "cell_type": "code",
   "execution_count": 1,
   "id": "7f2871f7",
   "metadata": {},
   "outputs": [],
   "source": [
    "import numpy as np\n",
    "import pandas as pd\n",
    "import scipy as sp\n",
    "import scipy.stats as stats\n",
    "import matplotlib.pyplot as plt"
   ]
  },
  {
   "cell_type": "code",
   "execution_count": 2,
   "id": "6034ea53",
   "metadata": {},
   "outputs": [],
   "source": [
    "binomial = stats.binom(25,0.7)\n",
    "uniforme = stats.randint(low = 1, high = 7)\n",
    "exponencial = stats.expon(10)"
   ]
  },
  {
   "cell_type": "markdown",
   "id": "4e212efb",
   "metadata": {},
   "source": [
    "### Para cada una de las distribuciones anteriores:"
   ]
  },
  {
   "cell_type": "markdown",
   "id": "772b0a8d",
   "metadata": {},
   "source": [
    "### Generar una muestra grande (200 o más)"
   ]
  },
  {
   "cell_type": "code",
   "execution_count": 7,
   "id": "148ecfc6",
   "metadata": {},
   "outputs": [],
   "source": [
    "np.random.seed(100)"
   ]
  },
  {
   "cell_type": "code",
   "execution_count": 16,
   "id": "626ad35b",
   "metadata": {},
   "outputs": [],
   "source": [
    "muestra_binomial = binomial.rvs(300)\n",
    "muestra_uniforme = uniforme.rvs(300)\n",
    "muestra_exponencial = exponencial.rvs(300)"
   ]
  },
  {
   "cell_type": "markdown",
   "id": "5f0ad5b6",
   "metadata": {},
   "source": [
    "### Tomar 100 muestras bootstrap de la muestra original"
   ]
  },
  {
   "cell_type": "code",
   "execution_count": 18,
   "id": "44c6be68",
   "metadata": {},
   "outputs": [
    {
     "data": {
      "image/png": "[encoded data removed]",
      "text/plain": [
       "<Figure size 432x288 with 1 Axes>"
      ]
     },
     "metadata": {
      "needs_background": "light"
     },
     "output_type": "display_data"
    },
    {
     "data": {
      "image/png": "[encoded data removed]",
      "text/plain": [
       "<Figure size 432x288 with 1 Axes>"
      ]
     },
     "metadata": {
      "needs_background": "light"
     },
     "output_type": "display_data"
    },
    {
     "data": {
      "image/png": "[encoded data removed]",
      "text/plain": [
       "<Figure size 432x288 with 1 Axes>"
      ]
     },
     "metadata": {
      "needs_background": "light"
     },
     "output_type": "display_data"
    }
   ],
   "source": [
    "def bootstrap (datos,muestras = 100):\n",
    "    sample = []\n",
    "    media = []\n",
    "    mediana = []\n",
    "    p_23 = []\n",
    "\n",
    "    for i in range (muestras):\n",
    "        sample = np.random.choice(datos,size=len(datos), replace = True)\n",
    "        media.append(np.mean(sample))\n",
    "        mediana.append(np.median(sample))\n",
    "        p_23.append(np.percentile(sample,23))\n",
    "\n",
    "    fig, ax = plt.subplots()\n",
    "    ax.hist(media, label = \"Media\")\n",
    "    ax.hist(mediana, label = \"Mediana\")\n",
    "    ax.hist(p_23, label = \"Media\")\n",
    "\n",
    "bootstrap(muestra_binomial)\n",
    "bootstrap(muestra_uniforme)\n",
    "bootstrap(muestra_exponencial)"
   ]
  },
  {
   "cell_type": "markdown",
   "id": "0b05a3e5",
   "metadata": {},
   "source": [
    "# La empresa X quiere averiguar si el cambio a monitores Apple aumenta la productividad de sus programadores. Se elige una muestra aleatoria de 25 personas y se les cambia el monitor. La diferencia entre su productividad antes y después del cambio de monitor se encuentra en el documento “productivity.txt”"
   ]
  },
  {
   "cell_type": "code",
   "execution_count": 19,
   "id": "2ec79062",
   "metadata": {},
   "outputs": [],
   "source": [
    "documento = open(\"productivity.txt\")"
   ]
  },
  {
   "cell_type": "code",
   "execution_count": 20,
   "id": "8f3083d5",
   "metadata": {},
   "outputs": [],
   "source": [
    "muestras = documento.readlines()"
   ]
  },
  {
   "cell_type": "code",
   "execution_count": 21,
   "id": "991a48c6",
   "metadata": {},
   "outputs": [
    {
     "data": {
      "text/plain": [
       "['-1.910000000000000142e+01\\n',\n",
       " '-1.519999999999999929e+01\\n',\n",
       " '-1.240000000000000036e+01\\n',\n",
       " '-1.539999999999999858e+01\\n',\n",
       " '-8.699999999999999289e+00\\n',\n",
       " '-6.699999999999999289e+00\\n',\n",
       " '-5.899999999999999467e+00\\n',\n",
       " '-3.500000000000000000e+00\\n',\n",
       " '-3.099999999999999645e+00\\n',\n",
       " '-2.099999999999999645e+00\\n',\n",
       " '4.200000000000001066e+00\\n',\n",
       " '6.099999999999999645e+00\\n',\n",
       " '7.000000000000001776e+00\\n',\n",
       " '9.099999999999999645e+00\\n',\n",
       " '1.000000000000000178e+01\\n',\n",
       " '1.029999999999999893e+01\\n',\n",
       " '1.320000000000000107e+01\\n',\n",
       " '1.009999999999999964e+01\\n',\n",
       " '1.409999999999999964e+01\\n',\n",
       " '1.440000000000000036e+01\\n',\n",
       " '2.010000000000000142e+01\\n',\n",
       " '2.629999999999999716e+01\\n',\n",
       " '2.769999999999999574e+01\\n',\n",
       " '2.219999999999999574e+01\\n',\n",
       " '2.339999999999999858e+01\\n']"
      ]
     },
     "execution_count": 21,
     "metadata": {},
     "output_type": "execute_result"
    }
   ],
   "source": [
    "muestras"
   ]
  },
  {
   "cell_type": "code",
   "execution_count": 22,
   "id": "3b56265f",
   "metadata": {},
   "outputs": [],
   "source": [
    "muestras = np.array(muestras).astype(np.float)"
   ]
  },
  {
   "cell_type": "code",
   "execution_count": 23,
   "id": "ae6e75d7",
   "metadata": {},
   "outputs": [
    {
     "data": {
      "text/plain": [
       "array([-19.1, -15.2, -12.4, -15.4,  -8.7,  -6.7,  -5.9,  -3.5,  -3.1,\n",
       "        -2.1,   4.2,   6.1,   7. ,   9.1,  10. ,  10.3,  13.2,  10.1,\n",
       "        14.1,  14.4,  20.1,  26.3,  27.7,  22.2,  23.4])"
      ]
     },
     "execution_count": 23,
     "metadata": {},
     "output_type": "execute_result"
    }
   ],
   "source": [
    "muestras"
   ]
  },
  {
   "cell_type": "markdown",
   "id": "f02627b6",
   "metadata": {},
   "source": [
    "### Crear una función bootstrap_ci para calcular el intervalo de confianza de cualquier estadística muestral (en este caso la media). La función debe tomar una muestra, una función que calcule el estadístico muestral, el número de remuestreos (por defecto: 10000) y el nivel de confianza (por defecto: 0,95). La función deberá devolver los límites inferior y superior del intervalo de confianza y la distribución bootstrap de la estadística muestral."
   ]
  },
  {
   "cell_type": "code",
   "execution_count": 29,
   "id": "a2890cf6",
   "metadata": {},
   "outputs": [],
   "source": [
    "def bootstrap_ci(datos,funcion = np.mean, resamples=10000, ci = 95):\n",
    "    estadisticas = np.zeros(resamples)\n",
    "    for i in range(resamples):\n",
    "        bootstrap = np.random.choice(datos,len(datos),replace=True)\n",
    "        estadisticas = funcion(bootstrap)\n",
    "    limite_inferior = (100-ci)/2\n",
    "    return np.percentile(estadisticas,limite_inferior),funcion(datos), np.percentile(estadisticas,100-limite_inferior),estadisticas\n",
    "lower,estimate,upper,bootstraps = bootstrap_ci(muestras)"
   ]
  },
  {
   "cell_type": "code",
   "execution_count": 30,
   "id": "afde0a6d",
   "metadata": {},
   "outputs": [
    {
     "data": {
      "text/plain": [
       "(6.731999999999999, 5.044, 6.731999999999999)"
      ]
     },
     "execution_count": 30,
     "metadata": {},
     "output_type": "execute_result"
    }
   ],
   "source": [
    "lower, estimate, upper"
   ]
  },
  {
   "cell_type": "markdown",
   "id": "77b805d7",
   "metadata": {},
   "source": [
    "### Representar la distribución bootstrap de las medias en un histograma."
   ]
  },
  {
   "cell_type": "code",
   "execution_count": 31,
   "id": "fb9dba3b",
   "metadata": {},
   "outputs": [
    {
     "data": {
      "text/plain": [
       "(array([0., 0., 0., 0., 0., 1., 0., 0., 0., 0.]),\n",
       " array([6.232, 6.332, 6.432, 6.532, 6.632, 6.732, 6.832, 6.932, 7.032,\n",
       "        7.132, 7.232]),\n",
       " <BarContainer object of 10 artists>)"
      ]
     },
     "execution_count": 31,
     "metadata": {},
     "output_type": "execute_result"
    },
    {
     "data": {
      "image/png": "[encoded data removed]",
      "text/plain": [
       "<Figure size 432x288 with 1 Axes>"
      ]
     },
     "metadata": {
      "needs_background": "light"
     },
     "output_type": "display_data"
    }
   ],
   "source": [
    "plt.hist(bootstraps)"
   ]
  },
  {
   "cell_type": "code",
   "execution_count": null,
   "id": "fbc7b2f0",
   "metadata": {},
   "outputs": [],
   "source": []
  }
 ],
 "metadata": {
  "kernelspec": {
   "display_name": "Python 3",
   "language": "python",
   "name": "python3"
  },
  "language_info": {
   "codemirror_mode": {
    "name": "ipython",
    "version": 3
   },
   "file_extension": ".py",
   "mimetype": "text/x-python",
   "name": "python",
   "nbconvert_exporter": "python",
   "pygments_lexer": "ipython3",
   "version": "3.6.13"
  }
 },
 "nbformat": 4,
 "nbformat_minor": 5
}

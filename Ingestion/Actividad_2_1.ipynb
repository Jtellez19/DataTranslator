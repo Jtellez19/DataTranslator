{
 "cells": [
  {
   "cell_type": "code",
   "execution_count": 1,
   "id": "bb62a550",
   "metadata": {},
   "outputs": [],
   "source": [
    "import numpy as np\n",
    "import pandas as pd\n",
    "import requests\n",
    "import pickle"
   ]
  },
  {
   "cell_type": "code",
   "execution_count": 3,
   "id": "cdc01975",
   "metadata": {},
   "outputs": [
    {
     "name": "stdout",
     "output_type": "stream",
     "text": [
      "Collecting requests\n",
      "  Downloading requests-2.27.1-py2.py3-none-any.whl (63 kB)\n",
      "Collecting charset-normalizer~=2.0.0\n",
      "  Downloading charset_normalizer-2.0.12-py3-none-any.whl (39 kB)\n",
      "Collecting urllib3<1.27,>=1.21.1\n",
      "  Downloading urllib3-1.26.12-py2.py3-none-any.whl (140 kB)\n",
      "Collecting idna<4,>=2.5\n",
      "  Downloading idna-3.4-py3-none-any.whl (61 kB)\n",
      "Requirement already satisfied: certifi>=2017.4.17 in c:\\users\\jtellez\\anaconda3\\envs\\python_fundamentals\\lib\\site-packages (from requests) (2021.5.30)\n",
      "Installing collected packages: urllib3, idna, charset-normalizer, requests\n",
      "Successfully installed charset-normalizer-2.0.12 idna-3.4 requests-2.27.1 urllib3-1.26.12\n"
     ]
    }
   ],
   "source": [
    "!pip install requests\n"
   ]
  },
  {
   "cell_type": "code",
   "execution_count": 2,
   "id": "66a8700d",
   "metadata": {},
   "outputs": [],
   "source": [
    "dfMachine = pd.read_csv('Machine-readable-business-employment-data-sep-2021-quarter.csv')\n",
    "dfAnnual = pd.read_csv('annual-enterprise-survey-2020-financial-year-provisional-csv.csv')\n",
    "dfElectric = pd.read_csv('electronic-card-transactions-November-2021-csv-tables.csv')\n",
    "\n",
    "##dfMachine.head(3)\n",
    "##dfAnnual.head(3)\n",
    "##dfElectric.head(3)"
   ]
  },
  {
   "cell_type": "code",
   "execution_count": 3,
   "id": "6516d4d2",
   "metadata": {},
   "outputs": [],
   "source": [
    "dfSalesOrders = pd.read_excel('SampleData.xlsx','SalesOrders')\n",
    "dfFoodSales = pd.read_excel('sampledatafoodsales.xlsx','FoodSales')\n",
    "dfInsurance = pd.read_excel('sampledatainsurance.xlsx','PolicyData')"
   ]
  },
  {
   "cell_type": "code",
   "execution_count": 3,
   "id": "ab806702",
   "metadata": {},
   "outputs": [
    {
     "name": "stdout",
     "output_type": "stream",
     "text": [
      "Collecting xlrd==1.2.0Note: you may need to restart the kernel to use updated packages.\n",
      "  Downloading xlrd-1.2.0-py2.py3-none-any.whl (103 kB)\n",
      "Installing collected packages: xlrd\n",
      "\n",
      "  Attempting uninstall: xlrd\n",
      "    Found existing installation: xlrd 2.0.1\n",
      "    Uninstalling xlrd-2.0.1:\n",
      "      Successfully uninstalled xlrd-2.0.1\n",
      "Successfully installed xlrd-1.2.0\n"
     ]
    }
   ],
   "source": [
    "#pip install xlrd==1.2.0"
   ]
  },
  {
   "cell_type": "code",
   "execution_count": 4,
   "id": "c5a4d657",
   "metadata": {},
   "outputs": [],
   "source": [
    "dfTodos = pd.json_normalize(requests.get(\"https://jsonplaceholder.typicode.com/todos\").json())\n",
    "dfPhotos = pd.json_normalize(requests.get(\"https://jsonplaceholder.typicode.com/photos\").json())\n",
    "dfAlbums = pd.json_normalize(requests.get(\"https://jsonplaceholder.typicode.com/albums\").json())\n"
   ]
  },
  {
   "cell_type": "code",
   "execution_count": 5,
   "id": "e04f32c9",
   "metadata": {},
   "outputs": [],
   "source": [
    "for i, df in enumerate ([dfMachine,dfAnnual,dfElectric,dfSalesOrders,dfFoodSales,dfInsurance,dfTodos,dfPhotos,dfAlbums]):\n",
    "    df.to_csv(f\"./to_file/{i}.csv\")\n",
    "    df.to_excel(f\"./to_file/{i}.xlsx\")\n",
    "    df.to_json(f\"./to_file/{i}.json\")"
   ]
  },
  {
   "cell_type": "code",
   "execution_count": 18,
   "id": "98b76b9f",
   "metadata": {},
   "outputs": [
    {
     "name": "stdout",
     "output_type": "stream",
     "text": [
      "Collecting package metadata (current_repodata.json): ...working... done\n",
      "Solving environment: ...working... done\n",
      "\n",
      "## Package Plan ##\n",
      "\n",
      "  environment location: C:\\Users\\JTELLEZ\\Anaconda3\\envs\\python_fundamentals\n",
      "\n",
      "  added / updated specs:\n",
      "    - openpyxl\n",
      "\n",
      "\n",
      "The following packages will be downloaded:\n",
      "\n",
      "    package                    |            build\n",
      "    ---------------------------|-----------------\n",
      "\n",
      "Note: you may need to restart the kernel to use updated packages.\n"
     ]
    },
    {
     "name": "stderr",
     "output_type": "stream",
     "text": [
      "\n"
     ]
    },
    {
     "name": "stdout",
     "output_type": "stream",
     "text": [
      "    certifi-2020.6.20          |     pyhd3eb1b0_3         159 KB  anaconda\n",
      "    et_xmlfile-1.1.0           |   py36haa95532_0           9 KB  anaconda\n",
      "    openpyxl-3.0.9             |     pyhd3eb1b0_0         159 KB  anaconda\n",
      "    ------------------------------------------------------------\n",
      "                                           Total:         327 KB\n",
      "\n",
      "The following NEW packages will be INSTALLED:\n",
      "\n",
      "  et_xmlfile         anaconda/win-64::et_xmlfile-1.1.0-py36haa95532_0\n",
      "  openpyxl           anaconda/noarch::openpyxl-3.0.9-pyhd3eb1b0_0\n",
      "\n",
      "The following packages will be SUPERSEDED by a higher-priority channel:\n",
      "\n",
      "  certifi            pkgs/main/win-64::certifi-2021.5.30-p~ --> anaconda/noarch::certifi-2020.6.20-pyhd3eb1b0_3\n",
      "\n",
      "\n",
      "\n",
      "Downloading and Extracting Packages\n",
      "\n",
      "openpyxl-3.0.9       | 159 KB    |            |   0% \n",
      "openpyxl-3.0.9       | 159 KB    | #          |  10% \n",
      "openpyxl-3.0.9       | 159 KB    | ########## | 100% \n",
      "openpyxl-3.0.9       | 159 KB    | ########## | 100% \n",
      "\n",
      "certifi-2020.6.20    | 159 KB    |            |   0% \n",
      "certifi-2020.6.20    | 159 KB    | #          |  10% \n",
      "certifi-2020.6.20    | 159 KB    | ########## | 100% \n",
      "certifi-2020.6.20    | 159 KB    | ########## | 100% \n",
      "\n",
      "et_xmlfile-1.1.0     | 9 KB      |            |   0% \n",
      "et_xmlfile-1.1.0     | 9 KB      | ########## | 100% \n",
      "et_xmlfile-1.1.0     | 9 KB      | ########## | 100% \n",
      "Preparing transaction: ...working... done\n",
      "Verifying transaction: ...working... done\n",
      "Executing transaction: ...working... done\n"
     ]
    },
    {
     "name": "stderr",
     "output_type": "stream",
     "text": [
      "\n",
      "==> WARNING: A newer version of conda exists. <==\n",
      "  current version: 4.12.0\n",
      "  latest version: 22.9.0\n",
      "\n",
      "Please update conda by running\n",
      "\n",
      "    $ conda update -n base -c defaults conda\n",
      "\n",
      "\n"
     ]
    }
   ],
   "source": [
    "conda install -c anaconda openpyxl"
   ]
  },
  {
   "cell_type": "code",
   "execution_count": 7,
   "id": "f16629d2",
   "metadata": {},
   "outputs": [],
   "source": [
    "for i, df in enumerate ([dfMachine,dfAnnual,dfElectric,dfSalesOrders,dfFoodSales,dfInsurance,dfTodos,dfPhotos,dfAlbums]):\n",
    "    with open(f\"./to_file/{i}.pickle\",'wb') as f:\n",
    "        pickle.dump(df,f,protocol=3)"
   ]
  },
  {
   "cell_type": "code",
   "execution_count": 8,
   "id": "1dc18898",
   "metadata": {},
   "outputs": [
    {
     "name": "stdout",
     "output_type": "stream",
     "text": [
      "(19093, 14)\n",
      "(37080, 10)\n",
      "(18240, 14)\n",
      "(43, 7)\n",
      "(244, 8)\n",
      "(500, 10)\n",
      "(200, 4)\n",
      "(5000, 5)\n",
      "(100, 3)\n"
     ]
    }
   ],
   "source": [
    "for i, df in enumerate ([dfMachine,dfAnnual,dfElectric,dfSalesOrders,dfFoodSales,dfInsurance,dfTodos,dfPhotos,dfAlbums]):\n",
    "    with open(f\"./to_file/{i}.pickle\",'rb') as f:\n",
    "        print(pickle.load(f).shape)"
   ]
  },
  {
   "cell_type": "code",
   "execution_count": null,
   "id": "86aa2ea7",
   "metadata": {},
   "outputs": [],
   "source": []
  }
 ],
 "metadata": {
  "kernelspec": {
   "display_name": "Python 3",
   "language": "python",
   "name": "python3"
  },
  "language_info": {
   "codemirror_mode": {
    "name": "ipython",
    "version": 3
   },
   "file_extension": ".py",
   "mimetype": "text/x-python",
   "name": "python",
   "nbconvert_exporter": "python",
   "pygments_lexer": "ipython3",
   "version": "3.6.13"
  }
 },
 "nbformat": 4,
 "nbformat_minor": 5
}
